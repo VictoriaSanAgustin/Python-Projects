{
 "cells": [
  {
   "cell_type": "markdown",
   "id": "6962eb34-4e28-4a1e-8ad9-9920c8949e38",
   "metadata": {},
   "source": [
    "# BMI Calculator"
   ]
  },
  {
   "cell_type": "code",
   "execution_count": null,
   "id": "e674099d-060f-47d8-b6c4-dceb4a211625",
   "metadata": {},
   "outputs": [],
   "source": [
    "# BMI = weight (kg) / [height (m)]2"
   ]
  },
  {
   "cell_type": "code",
   "execution_count": 1,
   "id": "e4fe29d5-1b4e-4959-97ef-640a19eafd01",
   "metadata": {},
   "outputs": [
    {
     "name": "stdout",
     "output_type": "stream",
     "text": [
      "Input your name: Victoria\n",
      "Input your weight in kg: 59\n",
      "Input your height in m: 1.69\n",
      "20.65754000210077\n",
      "Victoria, you have a healthy weight.\n"
     ]
    }
   ],
   "source": [
    "name = input('Input your name: ')\n",
    "\n",
    "weight = float(input('Input your weight in kg: '))\n",
    "\n",
    "height = float(input('Input your height in m: '))\n",
    "\n",
    "BMI = (weight)/(height)**2\n",
    "\n",
    "print(BMI)\n",
    "\n",
    "if BMI>0:\n",
    "    if(BMI<18.5): \n",
    "        print(name + \", you are underweight.\")\n",
    "    elif(BMI<24.9): \n",
    "        print(name + \", you have a healthy weight.\") \n",
    "    elif(BMI<29.9): \n",
    "        print(name + \", you are overweight.\")\n",
    "    elif(BMI>30.0): \n",
    "        print(name + \", you are obese.\")    \n",
    "    else:\n",
    "        print(\"Enter valid inputs.\")"
   ]
  }
 ],
 "metadata": {
  "kernelspec": {
   "display_name": "Python 3 (ipykernel)",
   "language": "python",
   "name": "python3"
  },
  "language_info": {
   "codemirror_mode": {
    "name": "ipython",
    "version": 3
   },
   "file_extension": ".py",
   "mimetype": "text/x-python",
   "name": "python",
   "nbconvert_exporter": "python",
   "pygments_lexer": "ipython3",
   "version": "3.11.7"
  }
 },
 "nbformat": 4,
 "nbformat_minor": 5
}
